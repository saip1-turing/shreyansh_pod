{
 "cells": [
  {
   "cell_type": "code",
   "execution_count": null,
   "metadata": {},
   "outputs": [],
   "source": [
    "import requests\n",
    "import json\n",
    "\n",
    "## NOTE: These examples won't work because the environments have been disabled in the API\n",
    "## but you can see the plots in the ./example folder\n",
    "# task_path = \"example/other_example.json\"\n",
    "\n",
    "task_path = r\"week_4/jamiu_pod/phillip.s-enterprise_wiki-1-expert-1753263019/task.json\"\n",
    "\n",
    "with open(task_path, 'r') as file:\n",
    "    task_json = json.load(file)\n",
    "\n",
    "API_BASE_URL= \"https://tau-bench.turing.com/\"\n",
    "\n",
    "response = requests.post(\n",
    "    f\"{API_BASE_URL}/task_verification\",\n",
    "    json=task_json,\n",
    "    headers={\"Content-Type\": \"application/json\"}\n",
    ")\n",
    "response.status_code"
   ]
  },
  {
   "cell_type": "code",
   "execution_count": null,
   "metadata": {},
   "outputs": [],
   "source": [
    "response.json()"
   ]
  },
  {
   "cell_type": "code",
   "execution_count": null,
   "metadata": {},
   "outputs": [],
   "source": [
    "from IPython.display import Image\n",
    "from IPython.display import display\n",
    "import base64\n",
    "\n",
    "plot_base64 = response.json()['plot_base64']\n",
    "plot_image = base64.b64decode(plot_base64)\n",
    "\n",
    "display(Image(data=plot_image))"
   ]
  }
 ],
 "metadata": {
  "kernelspec": {
   "display_name": ".venv",
   "language": "python",
   "name": "python3"
  },
  "language_info": {
   "codemirror_mode": {
    "name": "ipython",
    "version": 3
   },
   "file_extension": ".py",
   "mimetype": "text/x-python",
   "name": "python",
   "nbconvert_exporter": "python",
   "pygments_lexer": "ipython3",
   "version": "3.13.5"
  }
 },
 "nbformat": 4,
 "nbformat_minor": 2
}
