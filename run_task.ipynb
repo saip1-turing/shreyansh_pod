{
 "cells": [
  {
   "cell_type": "code",
   "execution_count": 4,
   "metadata": {},
   "outputs": [],
   "source": [
    "import requests\n",
    "import json\n",
    "\n",
    "task_path = \"example/francisco.m-airline-1-medium-1750002050.json\"\n",
    "\n",
    "with open(task_path, 'r') as file:\n",
    "    task_json = json.load(file)\n",
    "\n",
    "API_BASE_URL= \"https://amazon-tau-bench.turing.com\"\n",
    "\n",
    "response = requests.post(\n",
    "    f\"{API_BASE_URL}/run-task\",\n",
    "    json=task_json,\n",
    "    headers={\"Content-Type\": \"application/json\"}\n",
    ")\n"
   ]
  },
  {
   "cell_type": "code",
   "execution_count": null,
   "metadata": {},
   "outputs": [],
   "source": [
    "# You can inspect the trajectories for each individual run\n",
    "# Please verify at least one trajectory to ensure it makes sense\n",
    "response.json()['results'][0]"
   ]
  },
  {
   "cell_type": "code",
   "execution_count": null,
   "metadata": {},
   "outputs": [],
   "source": [
    "passes = response.json()['metrics']['pass_k']\n",
    "for i, r in passes.items():\n",
    "    if int(r) == 0:\n",
    "        outcome = \"Model broke\"\n",
    "    elif int(r) == 1:\n",
    "        outcome = \"Model didn't break\"\n",
    "    else:\n",
    "        raise ValueError(f\"Got unexpected value for `r`: {r}\")\n",
    "    print(f\"Pass {i}: {outcome}\")"
   ]
  },
  {
   "cell_type": "code",
   "execution_count": 4,
   "metadata": {},
   "outputs": [],
   "source": [
    "# response.json() ## Uncomment to see full response"
   ]
  }
 ],
 "metadata": {
  "kernelspec": {
   "display_name": ".venv",
   "language": "python",
   "name": "python3"
  },
  "language_info": {
   "codemirror_mode": {
    "name": "ipython",
    "version": 3
   },
   "file_extension": ".py",
   "mimetype": "text/x-python",
   "name": "python",
   "nbconvert_exporter": "python",
   "pygments_lexer": "ipython3",
   "version": "3.13.3"
  }
 },
 "nbformat": 4,
 "nbformat_minor": 2
}
